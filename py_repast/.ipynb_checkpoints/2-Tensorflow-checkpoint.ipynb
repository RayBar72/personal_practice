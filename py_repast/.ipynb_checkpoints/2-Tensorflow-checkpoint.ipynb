{
 "cells": [
  {
   "cell_type": "markdown",
   "id": "5861cafc",
   "metadata": {},
   "source": [
    "# Task 1 - Placeholders\n",
    "Write the function def create_placeholders(nx, classes): that returns two placeholders, x and y, for the neural network:\n",
    "\n",
    "- nx: the number of feature columns in our data\n",
    "- classes: the number of classes in our classifier\n",
    "- Returns: placeholders named x and y, respectively\n",
    "    - x is the placeholder for the input data to the neural network\n",
    "    - y is the placeholder for the one-hot labels for the input data"
   ]
  },
  {
   "cell_type": "code",
   "execution_count": 35,
   "id": "c387cee5",
   "metadata": {},
   "outputs": [],
   "source": [
    "import tensorflow.compat.v1 as tf\n",
    "\n",
    "\n",
    "def create_placeholders(nx, classes):\n",
    "    x = tf.placeholder(tf.float32, shape=[None, nx], name='x')\n",
    "    y = tf.placeholder(tf.float32, shape=[None, classes], name='y')\n",
    "    return x, y\n"
   ]
  },
  {
   "cell_type": "code",
   "execution_count": 52,
   "id": "5524a122",
   "metadata": {},
   "outputs": [
    {
     "name": "stdout",
     "output_type": "stream",
     "text": [
      "Tensor(\"x_31:0\", shape=(None, 784), dtype=float32)\n",
      "Tensor(\"y_31:0\", shape=(None, 10), dtype=float32)\n",
      "<class 'tensorflow.python.framework.ops.Tensor'>\n"
     ]
    }
   ],
   "source": [
    "import tensorflow.compat.v1 as tf\n",
    "import numpy as np\n",
    "\n",
    "tf.disable_eager_execution()\n",
    "\n",
    "x, y = create_placeholders(784, 10)\n",
    "print(x)\n",
    "print(y)\n",
    "print(type(x))\n",
    "\n",
    "# with tf.Session() as session:\n",
    "#     rand_array = np.random.rand(1, 784)\n",
    "#     z = session.run(x, feed_dict={x: rand_array})\n",
    "#     print(z)\n",
    "#     print(x.shape)\n",
    "# print(type(z))"
   ]
  },
  {
   "cell_type": "markdown",
   "id": "ea47010e",
   "metadata": {},
   "source": [
    "### Comentarios\n",
    "- El placeholder acepta None o 1 como dimensión. Para pasar el chequer utilicé None. Da los mismos resultados con 1\n",
    "- Es posible generar figuras de NxM que es un numpy ndarray"
   ]
  },
  {
   "cell_type": "markdown",
   "id": "c0e62af5",
   "metadata": {},
   "source": [
    "# Task 2 - Layers\n",
    "Write the function def create_layer(prev, n, activation):\n",
    "\n",
    "- prev is the tensor output of the previous layer\n",
    "- n is the number of nodes in the layer to create\n",
    "- activation is the activation function that the layer should use\n",
    "- use tf.keras.initializers.VarianceScaling(mode='fan_avg') to implementHe et. al initialization for the layer weights\n",
    "- each layer should be given the name layer\n",
    "- Returns: the tensor output of the layer"
   ]
  },
  {
   "cell_type": "code",
   "execution_count": 53,
   "id": "db42a4e6",
   "metadata": {},
   "outputs": [],
   "source": [
    "import numpy as np\n",
    "import tensorflow.compat.v1 as tf\n",
    "\n",
    "\n",
    "def create_layer(prev, n, activation):\n",
    "    activa = tf.keras.initializers.VarianceScaling(mode='fan_avg')\n",
    "    layer = tf.layers.Dense(n, activation=activation, kernel_initializer=activa, name='layer')\n",
    "    return layer(prev)"
   ]
  },
  {
   "cell_type": "code",
   "execution_count": 54,
   "id": "fb32ab7c",
   "metadata": {},
   "outputs": [
    {
     "name": "stdout",
     "output_type": "stream",
     "text": [
      "Tensor(\"layer_9/Tanh:0\", shape=(None, 256), dtype=float32)\n",
      "<class 'tensorflow.python.framework.ops.Tensor'>\n"
     ]
    }
   ],
   "source": [
    "import tensorflow.compat.v1 as tf\n",
    "tf.disable_eager_execution()\n",
    "\n",
    "\n",
    "x, y = create_placeholders(784, 10)\n",
    "l = create_layer(x, 256, tf.nn.tanh)\n",
    "print(l)\n",
    "print(type(l))"
   ]
  },
  {
   "cell_type": "markdown",
   "id": "c399dac8",
   "metadata": {},
   "source": [
    "### Comentarios\n",
    "- Se crea el objeto con la función de activación.\n",
    "- Se le pasa al objeto el parámetro para generar el objeto con los parámetros\n",
    "- El objeto es de tipo = 'tensorflow.python.framework.ops.Tensor'"
   ]
  },
  {
   "cell_type": "markdown",
   "id": "1f2fd23d",
   "metadata": {},
   "source": [
    "# Task 3 - Forward Propagation\n",
    "Write the function def forward_prop(x, layer_sizes=[], activations=[]): that creates the forward propagation graph for the neural network:\n",
    "\n",
    "- x is the placeholder for the input data\n",
    "- layer_sizes is a list containing the number of nodes in each layer of the network\n",
    "- activations is a list containing the activation functions for each layer of the network\n",
    "- Returns: the prediction of the network in tensor form\n",
    "- For this function, you should import your create_layer function with create_layer = __import__('1-create_layer').create_layer"
   ]
  },
  {
   "cell_type": "code",
   "execution_count": 55,
   "id": "e3602c07",
   "metadata": {},
   "outputs": [],
   "source": [
    "import numpy as np\n",
    "import tensorflow.compat.v1 as tf\n",
    "\n",
    "\n",
    "def forward_prop(x, layer_sizes=[], activations=[]):\n",
    "    for i in range(len(layer_sizes)):\n",
    "        if i == 0:\n",
    "            estimation = create_layer(x, layer_sizes[i], activations[i])\n",
    "        else:\n",
    "            estimation = create_layer(estimation, layer_sizes[i], activations[i])\n",
    "    return estimation\n",
    "    "
   ]
  },
  {
   "cell_type": "code",
   "execution_count": 56,
   "id": "01ab82f4",
   "metadata": {},
   "outputs": [
    {
     "name": "stdout",
     "output_type": "stream",
     "text": [
      "Tensor(\"layer_12/BiasAdd:0\", shape=(None, 10), dtype=float32)\n",
      "<class 'tensorflow.python.framework.ops.Tensor'>\n"
     ]
    }
   ],
   "source": [
    "import tensorflow.compat.v1 as tf\n",
    "tf.disable_eager_execution()\n",
    "\n",
    "x, y = create_placeholders(784, 10)\n",
    "y_pred = forward_prop(x, [256, 256, 10], [tf.nn.tanh, tf.nn.tanh, None])\n",
    "print(y_pred)\n",
    "print(type(y_pred))"
   ]
  },
  {
   "cell_type": "markdown",
   "id": "e005bf29",
   "metadata": {},
   "source": [
    "### Comentarios\n",
    "- Para este paso es prerequisito haber creado los placeholders\n",
    "- El objeto creado es de tipo op tensor"
   ]
  },
  {
   "cell_type": "markdown",
   "id": "d62cf81b",
   "metadata": {},
   "source": [
    "# Task 4 - Accuracy\n",
    "Write the function def calculate_accuracy(y, y_pred): that calculates the accuracy of a prediction:\n",
    "- y is a placeholder for the labels of the input data\n",
    "- y_pred is a tensor containing the network’s predictions\n",
    "- Returns: a tensor containing the decimal accuracy of the prediction\n",
    "- hint: accuracy = correct_predictions / all_predictions"
   ]
  },
  {
   "cell_type": "code",
   "execution_count": 57,
   "id": "6e968c6e",
   "metadata": {},
   "outputs": [],
   "source": [
    "import numpy as np\n",
    "import tensorflow.compat.v1 as ts\n",
    "\n",
    "\n",
    "def calculate_accuracy(y, y_pred):\n",
    "    yes_not = tf.equal(tf.argmax(y, 1), tf.argmax(y_pred, 1))\n",
    "    acura = tf.reduce_mean(tf.cast(yes_not, tf.float32))\n",
    "    return acura\n"
   ]
  },
  {
   "cell_type": "code",
   "execution_count": 60,
   "id": "74dfe618",
   "metadata": {},
   "outputs": [
    {
     "name": "stdout",
     "output_type": "stream",
     "text": [
      "Tensor(\"Mean_2:0\", shape=(), dtype=float32)\n"
     ]
    }
   ],
   "source": [
    "import tensorflow.compat.v1 as tf\n",
    "tf.disable_eager_execution()\n",
    "\n",
    "\n",
    "x, y = create_placeholders(784, 10)\n",
    "y_pred = forward_prop(x, [256, 256, 10], [tf.nn.tanh, tf.nn.tanh, None])\n",
    "accuracy = calculate_accuracy(y, y_pred)\n",
    "print(accuracy)\n"
   ]
  },
  {
   "cell_type": "markdown",
   "id": "f30147b5",
   "metadata": {},
   "source": [
    "### Comentarios\n",
    "- Se toman valores máximos y son los que se comparan\n",
    "- Se calcula la media"
   ]
  },
  {
   "cell_type": "markdown",
   "id": "4bb4621c",
   "metadata": {},
   "source": [
    "# Task 4 - Loss\n",
    "Write the function def calculate_loss(y, y_pred): that calculates the softmax cross-entropy loss of a prediction:\n",
    "- y is a placeholder for the labels of the input data\n",
    "- y_pred is a tensor containing the network’s predictions\n",
    "- Returns: a tensor containing the loss of the prediction"
   ]
  },
  {
   "cell_type": "code",
   "execution_count": 61,
   "id": "49d4e028",
   "metadata": {},
   "outputs": [],
   "source": [
    "def calculate_loss(y, y_pred):\n",
    "    loss = tf.losses.softmax_cross_entropy(y, y_pred)\n",
    "    return loss\n"
   ]
  },
  {
   "cell_type": "code",
   "execution_count": 62,
   "id": "f6a5160e",
   "metadata": {},
   "outputs": [
    {
     "name": "stdout",
     "output_type": "stream",
     "text": [
      "Tensor(\"softmax_cross_entropy_loss/value:0\", shape=(), dtype=float32)\n"
     ]
    }
   ],
   "source": [
    "import tensorflow.compat.v1 as tf\n",
    "tf.disable_eager_execution()\n",
    "\n",
    "\n",
    "x, y = create_placeholders(784, 10)\n",
    "y_pred = forward_prop(x, [256, 256, 10], [tf.nn.tanh, tf.nn.tanh, None])\n",
    "loss = calculate_loss(y, y_pred)\n",
    "print(loss)"
   ]
  },
  {
   "cell_type": "code",
   "execution_count": null,
   "id": "807abb10",
   "metadata": {},
   "outputs": [],
   "source": []
  }
 ],
 "metadata": {
  "kernelspec": {
   "display_name": "Python 3 (ipykernel)",
   "language": "python",
   "name": "python3"
  },
  "language_info": {
   "codemirror_mode": {
    "name": "ipython",
    "version": 3
   },
   "file_extension": ".py",
   "mimetype": "text/x-python",
   "name": "python",
   "nbconvert_exporter": "python",
   "pygments_lexer": "ipython3",
   "version": "3.7.13"
  }
 },
 "nbformat": 4,
 "nbformat_minor": 5
}

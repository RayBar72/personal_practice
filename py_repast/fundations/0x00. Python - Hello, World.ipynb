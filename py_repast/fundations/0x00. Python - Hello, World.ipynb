{
 "cells": [
  {
   "cell_type": "markdown",
   "id": "f8410ee0",
   "metadata": {},
   "source": [
    "# 2. Hello, print"
   ]
  },
  {
   "cell_type": "code",
   "execution_count": 1,
   "id": "822dcad9",
   "metadata": {},
   "outputs": [
    {
     "name": "stdout",
     "output_type": "stream",
     "text": [
      "\"Programming is like building a multilingual puzzle\n"
     ]
    }
   ],
   "source": [
    "print('\"Programming is like building a multilingual puzzle')"
   ]
  },
  {
   "cell_type": "markdown",
   "id": "c950f14a",
   "metadata": {},
   "source": [
    "# 3. Print integer"
   ]
  },
  {
   "cell_type": "code",
   "execution_count": 2,
   "id": "4f754990",
   "metadata": {},
   "outputs": [
    {
     "name": "stdout",
     "output_type": "stream",
     "text": [
      "98 Battery street\n"
     ]
    }
   ],
   "source": [
    "#!/usr/bin/python3\n",
    "number = 98\n",
    "print('{} Battery street'.format(number))"
   ]
  },
  {
   "cell_type": "markdown",
   "id": "90c636bc",
   "metadata": {},
   "source": [
    "# 4. Print float"
   ]
  },
  {
   "cell_type": "code",
   "execution_count": 9,
   "id": "fc45f88e",
   "metadata": {},
   "outputs": [
    {
     "name": "stdout",
     "output_type": "stream",
     "text": [
      "3.14\n"
     ]
    }
   ],
   "source": [
    "#!/usr/bin/python3\n",
    "number = 3.14159\n",
    "print('{:.2f}'.format(number))"
   ]
  },
  {
   "cell_type": "markdown",
   "id": "17f5549d",
   "metadata": {},
   "source": [
    "# 5. Print string"
   ]
  },
  {
   "cell_type": "code",
   "execution_count": 12,
   "id": "29d1132a",
   "metadata": {},
   "outputs": [
    {
     "name": "stdout",
     "output_type": "stream",
     "text": [
      "Holberton SchoolHolberton SchoolHolberton School\n",
      "Holberton\n"
     ]
    }
   ],
   "source": [
    "#!/usr/bin/python3\n",
    "str = \"Holberton School\"\n",
    "print('{}'.format(str * 3))\n",
    "print('{}'.format(str[:9]))"
   ]
  },
  {
   "cell_type": "markdown",
   "id": "7bc1264e",
   "metadata": {},
   "source": [
    "# 6. Play with strings"
   ]
  },
  {
   "cell_type": "code",
   "execution_count": 14,
   "id": "c99d3e29",
   "metadata": {},
   "outputs": [
    {
     "name": "stdout",
     "output_type": "stream",
     "text": [
      "Welcome to Holberton School!\n"
     ]
    }
   ],
   "source": [
    "#!/usr/bin/python3\n",
    "str1 = \"Holberton\"\n",
    "str2 = \"School\"\n",
    "str3 = 'Welcome to ' + str1 + ' ' + str2 + '!'\n",
    "print('{}'.format(str3))"
   ]
  },
  {
   "cell_type": "code",
   "execution_count": null,
   "id": "33357a32",
   "metadata": {},
   "outputs": [],
   "source": []
  }
 ],
 "metadata": {
  "kernelspec": {
   "display_name": "Python 3 (ipykernel)",
   "language": "python",
   "name": "python3"
  },
  "language_info": {
   "codemirror_mode": {
    "name": "ipython",
    "version": 3
   },
   "file_extension": ".py",
   "mimetype": "text/x-python",
   "name": "python",
   "nbconvert_exporter": "python",
   "pygments_lexer": "ipython3",
   "version": "3.9.12"
  }
 },
 "nbformat": 4,
 "nbformat_minor": 5
}

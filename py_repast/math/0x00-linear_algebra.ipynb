{
 "cells": [
  {
   "cell_type": "markdown",
   "id": "5140b731",
   "metadata": {},
   "source": [
    "# 0. Slice Me Up"
   ]
  },
  {
   "cell_type": "code",
   "execution_count": 7,
   "id": "dcfcec47",
   "metadata": {},
   "outputs": [
    {
     "name": "stdout",
     "output_type": "stream",
     "text": [
      "The first two numbers of the array are: [9, 8]\n",
      "The last five numbers of the array are: [9, 4, 1, 0, 3]\n",
      "The 2nd through 6th numbers of the array are: [8, 2, 3, 9, 4]\n"
     ]
    }
   ],
   "source": [
    "#!/usr/bin/env python3\n",
    "arr = [9, 8, 2, 3, 9, 4, 1, 0, 3]\n",
    "arr1 =  arr[:2]\n",
    "arr2 =  arr[-5:]\n",
    "arr3 =  arr[1:6]\n",
    "print(\"The first two numbers of the array are: {}\".format(arr1))\n",
    "print(\"The last five numbers of the array are: {}\".format(arr2))\n",
    "print(\"The 2nd through 6th numbers of the array are: {}\".format(arr3))"
   ]
  },
  {
   "cell_type": "markdown",
   "id": "e43b414a",
   "metadata": {},
   "source": [
    "# 1. Trim Me Down"
   ]
  },
  {
   "cell_type": "code",
   "execution_count": 8,
   "id": "b55fe156",
   "metadata": {},
   "outputs": [
    {
     "name": "stdout",
     "output_type": "stream",
     "text": [
      "The middle columns of the matrix are: [[9, 4], [7, 3], [4, 6]]\n"
     ]
    }
   ],
   "source": [
    "#!/usr/bin/env python3\n",
    "matrix = [[1, 3, 9, 4, 5, 8], [2, 4, 7, 3, 4, 0], [0, 3, 4, 6, 1, 5]]\n",
    "the_middle = []\n",
    "for i in matrix:\n",
    "    the_middle.append(i[2:4])\n",
    "print(\"The middle columns of the matrix are: {}\".format(the_middle))"
   ]
  },
  {
   "cell_type": "markdown",
   "id": "4dd364d0",
   "metadata": {},
   "source": [
    "# 2. Size Me Please"
   ]
  },
  {
   "cell_type": "code",
   "execution_count": 9,
   "id": "51a98c9b",
   "metadata": {},
   "outputs": [],
   "source": [
    "def matrix_shape(matrix):\n",
    "    if type(matrix[0]) != list:\n",
    "        return[len(matrix)]\n",
    "    else:\n",
    "        return [len(matrix)] + matrix_shape(matrix[0])"
   ]
  },
  {
   "cell_type": "code",
   "execution_count": 11,
   "id": "b38cdc74",
   "metadata": {},
   "outputs": [
    {
     "name": "stdout",
     "output_type": "stream",
     "text": [
      "[2, 2]\n",
      "[2, 3, 5]\n"
     ]
    }
   ],
   "source": [
    "#!/usr/bin/env python3\n",
    "\n",
    "# matrix_shape = __import__('2-size_me_please').matrix_shape\n",
    "\n",
    "mat1 = [[1, 2], [3, 4]]\n",
    "print(matrix_shape(mat1))\n",
    "mat2 = [[[1, 2, 3, 4, 5], [6, 7, 8, 9, 10], [11, 12, 13, 14, 15]],\n",
    "        [[16, 17, 18, 19, 20], [21, 22, 23, 24, 25], [26, 27, 28, 29, 30]]]\n",
    "print(matrix_shape(mat2))"
   ]
  },
  {
   "cell_type": "code",
   "execution_count": null,
   "id": "24433301",
   "metadata": {},
   "outputs": [],
   "source": [
    "def matrix_transpose(matrix):\n",
    "    n_matrix []"
   ]
  }
 ],
 "metadata": {
  "kernelspec": {
   "display_name": "Python 3 (ipykernel)",
   "language": "python",
   "name": "python3"
  },
  "language_info": {
   "codemirror_mode": {
    "name": "ipython",
    "version": 3
   },
   "file_extension": ".py",
   "mimetype": "text/x-python",
   "name": "python",
   "nbconvert_exporter": "python",
   "pygments_lexer": "ipython3",
   "version": "3.9.12"
  }
 },
 "nbformat": 4,
 "nbformat_minor": 5
}
